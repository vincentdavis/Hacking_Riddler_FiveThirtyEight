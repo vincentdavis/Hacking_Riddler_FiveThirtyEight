{
  "nbformat": 4,
  "nbformat_minor": 0,
  "metadata": {
    "colab": {
      "name": "Can You Escape The Enemy Submarines?",
      "provenance": [],
      "collapsed_sections": [],
      "include_colab_link": true
    },
    "kernelspec": {
      "name": "python3",
      "display_name": "Python 3"
    }
  },
  "cells": [
    {
      "cell_type": "markdown",
      "metadata": {
        "id": "view-in-github",
        "colab_type": "text"
      },
      "source": [
        "<a href=\"https://colab.research.google.com/github/vincentdavis/Hacking_Riddler_FiveThirtyEight/blob/master/Can_You_Escape_The_Enemy_Submarines%3F.ipynb\" target=\"_parent\"><img src=\"https://colab.research.google.com/assets/colab-badge.svg\" alt=\"Open In Colab\"/></a>"
      ]
    },
    {
      "cell_type": "markdown",
      "metadata": {
        "id": "kxRYW8cYG9zV",
        "colab_type": "text"
      },
      "source": [
        "OCT. 11, 2019, AT 8:00 AM\n",
        "\n",
        "## [DRAFT] Can You Escape The Enemy Submarines?\n",
        "\n",
        "### Riddler Express\n",
        "\n",
        "This week’s Riddler Express was related to me by Sunil Singh, who heard it from Sam Vandervelde, who heard it from … well, let’s just say this puzzle has been circulating for a while and is ready for prime time!\n",
        "\n",
        "An auditorium with 200 seats, numbered from 1 to 200, is filled to capacity. A speaker, who happens to be a mathematician, steps up to the podium overlooking the audience and pauses for a moment. “You know,” she says, “I’m thinking of a rather large whole number. Every seat number in this auditorium evenly divides my number, except for two of them — and those two seats happen to be next to each other.”\n",
        "\n",
        "As you’d expect, adjacent seats in the auditorium have consecutive numbers. Which two numbers was the speaker referring to?"
      ]
    },
    {
      "cell_type": "markdown",
      "metadata": {
        "id": "k7plb4kaHIXR",
        "colab_type": "text"
      },
      "source": [
        "#### First attempt:\n",
        "My first thought is that I know how to get a large number that is divisidble by all the seat numbers. Multiply all the car seat numbers. 1-200. Then possibly removing 199 and 200 with luck 1-198 multiplied is not divisible by 199 and 200. Lets try that."
      ]
    },
    {
      "cell_type": "code",
      "metadata": {
        "id": "rMsX7OzdHJyv",
        "colab_type": "code",
        "colab": {
          "base_uri": "https://localhost:8080/",
          "height": 34
        },
        "outputId": "a4fc0ac8-151a-40ed-a802-c6ba5a89d42c"
      },
      "source": [
        "# really wishing I had puthon 3.8 for the product fuction.\n",
        "d = 1\n",
        "for n in range(1,199):\n",
        "    d *= n\n",
        "if 0 not in {d%199, d%200}:\n",
        "    print('I win')\n",
        "else:\n",
        "    print(f'I loose: {d%199}, {d%200}')"
      ],
      "execution_count": 1,
      "outputs": [
        {
          "output_type": "stream",
          "text": [
            "I loose: 198, 0\n"
          ],
          "name": "stdout"
        }
      ]
    },
    {
      "cell_type": "markdown",
      "metadata": {
        "id": "7642YOGZHWYm",
        "colab_type": "text"
      },
      "source": [
        "#### Second attempt:\n",
        "That didn't work I could try a few other guesses but lets just try every pair. I dont think this will work out either."
      ]
    },
    {
      "cell_type": "code",
      "metadata": {
        "id": "ngMwPK2gHSzU",
        "colab_type": "code",
        "colab": {
          "base_uri": "https://localhost:8080/",
          "height": 34
        },
        "outputId": "91f833f7-ccef-4d7e-93f6-ddf3c3b870b8"
      },
      "source": [
        "winner = False\n",
        "for a in range(1,200):\n",
        "    d = 1\n",
        "    for n in range(1,201):\n",
        "        if d not in {a, a+1}:\n",
        "            d *= n\n",
        "    if 0 not in {d%a, d%(a+1)}:\n",
        "        print(f'I win. seats are: ({a}, {a+1})')\n",
        "        winner = True\n",
        "if not winner:\n",
        "    print('I loose')"
      ],
      "execution_count": 2,
      "outputs": [
        {
          "output_type": "stream",
          "text": [
            "I loose\n"
          ],
          "name": "stdout"
        }
      ]
    },
    {
      "cell_type": "markdown",
      "metadata": {
        "id": "N4xbEAbRHTPh",
        "colab_type": "text"
      },
      "source": [
        "#### Third attempt:\n",
        "That is what I figured. I know what I need is a pair of agacent numbers coprime with this large number and not with all the other 198 seats.\n",
        "I am trying to stick to my brute force ethose and not delve to much into therory. I looked a a prperty of modulo multiplication (A * B) mod C = (A mod C * B mod C) mod C. I dont see an obviouse way to use this.\n",
        "I am sticking with my guess that 199 and 200 are the two numbers. This is probably worng because its an easy guess. Lets modify the primes up to 199."
      ]
    },
    {
      "cell_type": "code",
      "metadata": {
        "id": "spnyuL1_Hgvj",
        "colab_type": "code",
        "colab": {
          "base_uri": "https://localhost:8080/",
          "height": 105
        },
        "outputId": "59ada33f-7ca2-40f6-c59a-98df5bf1dbbe"
      },
      "source": [
        "# lets define a checker.\n",
        "def checker(d):\n",
        "  '''\n",
        "  Check if there is an (a, a+1) that is co prime to d and that all other numbers\n",
        "  divide d evenly\n",
        "  '''\n",
        "  solution_count = 0\n",
        "  solutions = set()\n",
        "  for a in range(1,200):\n",
        "    if 0 != d%a and 0 != d%(a+1):\n",
        "      solutions.add((a, a+1))\n",
        "      solution_count += 1\n",
        "  return (solution_count, solutions)\n",
        "\n",
        "\n",
        "primes = [2, 3, 5, 7, 11, 13, 17, 19, 23, 29, 31, 37, 41, 43, 47, 53, 59, 61, 67, 71, 73, 79, 83, 89, 97, 101, 103, 107, 109, 113, 127, 131, 137, 139, 149, 151, 157, 163, 167, 173, 179, 181, 191, 193, 197, 199]\n",
        "\n",
        "\n",
        "# First lets make a large number form all the primes less then 200.\n",
        "d = 1\n",
        "for p in primes:\n",
        "    d *= p\n",
        "\n",
        "p, pc = checker(d)\n",
        "print(f'From primes: Possible solution count: {p}\\n Possible solutions: {pc}')   \n",
        "\n",
        "# I have 24 number pairs that are co prime to the large number.\n",
        "for c in range(1, 200):\n",
        "  if 0 == d%c and not 0 == d%(c+1) and 0 != d%(c-1): # remove the isolated numbers\n",
        "    d *= c\n",
        "\n",
        "p, pc = checker(d)\n",
        "print(f'From primes and more: Possible solution count: {p}\\n Possible solutions: {pc}')\n",
        "\n",
        "\n",
        "# for c in range(1, 200):\n",
        "#   if 0 == d%c and not 0 == d%(c+1) and 0 != d%(c-1): # remove the isolated numbers\n",
        "#     d *= c\n",
        "    \n",
        "    \n",
        "\n",
        "# winner = True\n",
        "# loosers = set()\n",
        "# for s in range(1,198):\n",
        "#     if 0 != d%s:\n",
        "#         winner = False\n",
        "#         print(f\"Looser: {s}\")\n",
        "#         loosers.add(s)\n",
        "\n",
        "# for l in loosers:\n",
        "#      if 0 not in {d*l%198, d*l%199}:\n",
        "#             d *= l\n",
        "# for s in range(1,199):\n",
        "#     if 0 != d%s:\n",
        "#         winner = False\n",
        "#         print(f\"Looser2: {s}\")\n",
        "#     if 0 not in {d%198, d%199}:\n",
        "#         print('I win')\n",
        "#     else:\n",
        "#         print(f'I loose: {d%198}, {d%199}')\n",
        "    "
      ],
      "execution_count": 3,
      "outputs": [
        {
          "output_type": "stream",
          "text": [
            "From primes: Possible solution count: 22\n",
            " Possible solutions: {(125, 126), (8, 9), (168, 169), (98, 99), (63, 64), (49, 50), (80, 81), (44, 45), (116, 117), (120, 121), (175, 176), (99, 100), (27, 28), (124, 125), (188, 189), (75, 76), (147, 148), (171, 172), (48, 49), (24, 25), (152, 153), (135, 136)}\n",
            "From primes and more: Possible solution count: 6\n",
            " Possible solutions: {(80, 81), (125, 126), (8, 9), (152, 153), (63, 64), (135, 136)}\n"
          ],
          "name": "stdout"
        }
      ]
    },
    {
      "cell_type": "markdown",
      "metadata": {
        "id": "NyJCQ_-0AuD8",
        "colab_type": "text"
      },
      "source": [
        "#### Fourth attempt:\n",
        "In that last attempt I got down to 6 possibilities. Then I got to thinking maybe I should start with a very large prime and multiply it by the other numbers. If this works it would make me think there is more then one solution whihc I am guessing there is not.\n",
        "Looking for a large prime, [List of the first 50 million primes](https://primes.utm.edu/lists/small/millions/)\n",
        "the fifteith million appers to be 982,451,653"
      ]
    },
    {
      "cell_type": "code",
      "metadata": {
        "id": "poFsqmDHBz_2",
        "colab_type": "code",
        "colab": {
          "base_uri": "https://localhost:8080/",
          "height": 51
        },
        "outputId": "9c68387d-706f-414c-e63a-25275eb6521d"
      },
      "source": [
        "large_p = 982451653\n",
        "d = 1 * p\n",
        "count = 200\n",
        "for c in range(1, 200):\n",
        "  d *= c\n",
        "  p, pc = checker(d)\n",
        "  if p < count and p!= 1: # this in not eaxtly right, there cant be 200 because it is only pairs\n",
        "    count = p\n",
        "  if p == 1:\n",
        "    print(f'Solution found: {d}\\nThe solution is: {pc}')\n",
        "    break\n",
        "    \n"
      ],
      "execution_count": 6,
      "outputs": [
        {
          "output_type": "stream",
          "text": [
            "Solution found: 16507955160908461081216919262453619309839666236496541854913520707833171034378509739399912570787600662729080382999756800000000000000000000\n",
            "The solution is: {(193, 194)}\n"
          ],
          "name": "stdout"
        }
      ]
    },
    {
      "cell_type": "code",
      "metadata": {
        "id": "mLb7HXPI_abs",
        "colab_type": "code",
        "colab": {}
      },
      "source": [
        ""
      ],
      "execution_count": 0,
      "outputs": []
    },
    {
      "cell_type": "code",
      "metadata": {
        "id": "BmNKp_4iL8LB",
        "colab_type": "code",
        "colab": {}
      },
      "source": [
        ""
      ],
      "execution_count": 0,
      "outputs": []
    }
  ]
}