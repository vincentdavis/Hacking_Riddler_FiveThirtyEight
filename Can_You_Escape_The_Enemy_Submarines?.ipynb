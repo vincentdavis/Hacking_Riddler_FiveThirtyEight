{
  "nbformat": 4,
  "nbformat_minor": 0,
  "metadata": {
    "colab": {
      "name": "Can You Escape The Enemy Submarines?",
      "provenance": [],
      "collapsed_sections": [],
      "include_colab_link": true
    },
    "kernelspec": {
      "name": "python3",
      "display_name": "Python 3"
    }
  },
  "cells": [
    {
      "cell_type": "markdown",
      "metadata": {
        "id": "view-in-github",
        "colab_type": "text"
      },
      "source": [
        "<a href=\"https://colab.research.google.com/github/vincentdavis/Hacking_Riddler_FiveThirtyEight/blob/master/Can_You_Escape_The_Enemy_Submarines%3F.ipynb\" target=\"_parent\"><img src=\"https://colab.research.google.com/assets/colab-badge.svg\" alt=\"Open In Colab\"/></a>"
      ]
    },
    {
      "cell_type": "markdown",
      "metadata": {
        "id": "kxRYW8cYG9zV",
        "colab_type": "text"
      },
      "source": [
        "OCT. 11, 2019, AT 8:00 AM\n",
        "\n",
        "## Can You Escape The Enemy Submarines?\n",
        "\n",
        "### Riddler Express\n",
        "\n",
        "This week’s Riddler Express was related to me by Sunil Singh, who heard it from Sam Vandervelde, who heard it from … well, let’s just say this puzzle has been circulating for a while and is ready for prime time!\n",
        "\n",
        "An auditorium with 200 seats, numbered from 1 to 200, is filled to capacity. A speaker, who happens to be a mathematician, steps up to the podium overlooking the audience and pauses for a moment. “You know,” she says, “I’m thinking of a rather large whole number. Every seat number in this auditorium evenly divides my number, except for two of them — and those two seats happen to be next to each other.”\n",
        "\n",
        "As you’d expect, adjacent seats in the auditorium have consecutive numbers. Which two numbers was the speaker referring to?"
      ]
    },
    {
      "cell_type": "markdown",
      "metadata": {
        "id": "k7plb4kaHIXR",
        "colab_type": "text"
      },
      "source": [
        "#### First attempt:\n",
        "My first thought is that I know how to get a large number that is divisidble by all the seat numbers. Multiply all the car seat numbers. 1-200. Then possibly removing 199 and 200 with luck 1-198 multiplied is not divisible by 199 and 200. Lets try that."
      ]
    },
    {
      "cell_type": "code",
      "metadata": {
        "id": "rMsX7OzdHJyv",
        "colab_type": "code",
        "colab": {
          "base_uri": "https://localhost:8080/",
          "height": 34
        },
        "outputId": "a4fc0ac8-151a-40ed-a802-c6ba5a89d42c"
      },
      "source": [
        "# really wishing I had puthon 3.8 for the product fuction.\n",
        "d = 1\n",
        "for n in range(1,199):\n",
        "    d *= n\n",
        "if 0 not in {d%199, d%200}:\n",
        "    print('I win')\n",
        "else:\n",
        "    print(f'I loose: {d%199}, {d%200}')"
      ],
      "execution_count": 1,
      "outputs": [
        {
          "output_type": "stream",
          "text": [
            "I loose: 198, 0\n"
          ],
          "name": "stdout"
        }
      ]
    },
    {
      "cell_type": "markdown",
      "metadata": {
        "id": "7642YOGZHWYm",
        "colab_type": "text"
      },
      "source": [
        "#### Second attempt:\n",
        "That didn't work I could try a few other guesses but lets just try every pair. I dont think this will work out either."
      ]
    },
    {
      "cell_type": "code",
      "metadata": {
        "id": "ngMwPK2gHSzU",
        "colab_type": "code",
        "colab": {
          "base_uri": "https://localhost:8080/",
          "height": 34
        },
        "outputId": "91f833f7-ccef-4d7e-93f6-ddf3c3b870b8"
      },
      "source": [
        "winner = False\n",
        "for a in range(1,200):\n",
        "    d = 1\n",
        "    for n in range(1,201):\n",
        "        if d not in {a, a+1}:\n",
        "            d *= n\n",
        "    if 0 not in {d%a, d%(a+1)}:\n",
        "        print(f'I win. seats are: ({a}, {a+1})')\n",
        "        winner = True\n",
        "if not winner:\n",
        "    print('I loose')"
      ],
      "execution_count": 2,
      "outputs": [
        {
          "output_type": "stream",
          "text": [
            "I loose\n"
          ],
          "name": "stdout"
        }
      ]
    },
    {
      "cell_type": "markdown",
      "metadata": {
        "id": "N4xbEAbRHTPh",
        "colab_type": "text"
      },
      "source": [
        "#### Third attempt:\n",
        "That is what I figured. I know what I need is a pair of agacent numbers coprime with this large number and not with all the other 198 seats.\n",
        "I am trying to stick to my brute force ethose and not delve to much into therory. I looked a a prperty of modulo multiplication (A * B) mod C = (A mod C * B mod C) mod C. I dont see an obviouse way to use this.\n",
        "I am sticking with my guess that 199 and 200 are the two numbers. This is probably worng because its an easy guess. Lets modify the primes up to 199."
      ]
    },
    {
      "cell_type": "code",
      "metadata": {
        "id": "spnyuL1_Hgvj",
        "colab_type": "code",
        "colab": {
          "base_uri": "https://localhost:8080/",
          "height": 731
        },
        "outputId": "f58d2805-78d9-411a-9bb4-8f831532186e"
      },
      "source": [
        "# lets define a checker.\n",
        "def checker(d):\n",
        "  '''\n",
        "  Check if there is an (a, a+1) that is co prime to d and that all other numbers\n",
        "  divide d evenly\n",
        "  '''\n",
        "  winners = 0\n",
        "  for a in range(1,200):\n",
        "    if 0 != d%a and 0 != d%(a+1):\n",
        "      print(a, a+1)\n",
        "      winners += 1\n",
        "  return winners\n",
        "\n",
        "\n",
        "primes = [2, 3, 5, 7, 11, 13, 17, 19, 23, 29, 31, 37, 41, 43, 47, 53, 59, 61, 67, 71, 73, 79, 83, 89, 97, 101, 103, 107, 109, 113, 127, 131, 137, 139, 149, 151, 157, 163, 167, 173, 179, 181, 191, 193, 197, 199]\n",
        "\n",
        "\n",
        "# First lets make a large number form all the primes less then 200.\n",
        "d = 1\n",
        "for p in primes:\n",
        "    d *= p\n",
        "    \n",
        "print(f'From primes: {checker(d)}')   \n",
        "\n",
        "# I have 24 number pairs that are co prime to the large number.\n",
        "for c in range(1, 200):\n",
        "  if 0 == d%c and not 0 == d%(c+1) and 0 != d%(c-1): # remove the isolated numbers\n",
        "    d *= c\n",
        "    \n",
        "print(f'From primes and more: {checker(d)}')\n",
        "\n",
        "for c in range(1, 200):\n",
        "  if 0 == d%c and not 0 == d%(c+1) and 0 != d%(c-1): # remove the isolated numbers\n",
        "    d *= c\n",
        "\n",
        "# winner = True\n",
        "# loosers = set()\n",
        "# for s in range(1,198):\n",
        "#     if 0 != d%s:\n",
        "#         winner = False\n",
        "#         print(f\"Looser: {s}\")\n",
        "#         loosers.add(s)\n",
        "\n",
        "# for l in loosers:\n",
        "#      if 0 not in {d*l%198, d*l%199}:\n",
        "#             d *= l\n",
        "# for s in range(1,199):\n",
        "#     if 0 != d%s:\n",
        "#         winner = False\n",
        "#         print(f\"Looser2: {s}\")\n",
        "#     if 0 not in {d%198, d%199}:\n",
        "#         print('I win')\n",
        "#     else:\n",
        "#         print(f'I loose: {d%198}, {d%199}')\n",
        "    "
      ],
      "execution_count": 21,
      "outputs": [
        {
          "output_type": "stream",
          "text": [
            "8 9\n",
            "24 25\n",
            "27 28\n",
            "44 45\n",
            "48 49\n",
            "49 50\n",
            "63 64\n",
            "75 76\n",
            "80 81\n",
            "98 99\n",
            "99 100\n",
            "116 117\n",
            "120 121\n",
            "124 125\n",
            "125 126\n",
            "135 136\n",
            "147 148\n",
            "152 153\n",
            "168 169\n",
            "171 172\n",
            "175 176\n",
            "188 189\n",
            "From primes: 22\n",
            "8 9\n",
            "63 64\n",
            "80 81\n",
            "125 126\n",
            "135 136\n",
            "152 153\n",
            "From primes and more: 6\n",
            "8 9\n",
            "63 64\n",
            "80 81\n",
            "135 136\n",
            "152 153\n",
            "From primes and more: 5\n",
            "8 9\n",
            "63 64\n",
            "80 81\n",
            "135 136\n",
            "152 153\n",
            "From primes and more: 5\n"
          ],
          "name": "stdout"
        }
      ]
    },
    {
      "cell_type": "code",
      "metadata": {
        "id": "BmNKp_4iL8LB",
        "colab_type": "code",
        "colab": {}
      },
      "source": [
        ""
      ],
      "execution_count": 0,
      "outputs": []
    }
  ]
}